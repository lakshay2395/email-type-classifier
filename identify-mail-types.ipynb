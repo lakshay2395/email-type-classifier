{
 "cells": [
  {
   "cell_type": "code",
   "execution_count": 3,
   "metadata": {},
   "outputs": [],
   "source": [
    "import pandas\n",
    "\n",
    "from sklearn import model_selection, linear_model,preprocessing, naive_bayes, metrics, svm\n",
    "from sklearn.feature_extraction.text import TfidfVectorizer\n",
    "from sklearn.neighbors import KNeighborsClassifier\n",
    "\n",
    "import nltk\n",
    "from nltk.tokenize import word_tokenize\n",
    "from nltk.corpus import stopwords\n",
    "from nltk.stem.wordnet import WordNetLemmatizer \n",
    "\n",
    "import matplotlib.pyplot as plt\n",
    "\n",
    "import re\n",
    "\n",
    "\n",
    "lem = WordNetLemmatizer()\n",
    "\n",
    "data = pandas.read_csv(\"mails.csv\",sep=\",\",parse_dates=['Date'])\n",
    "\n",
    "\n",
    "#Extracting Sender Email from sender and creating sender column\n",
    "data[\"Sender Email\"] = data[\"Sender\"].str.split(\" <\").str.get(1).str.split(\">\").str.get(0)\n",
    "data.loc[data[\"Sender Email\"].isnull(),'Sender Email'] = data[\"Sender\"].str.replace(\"<\",\"\").str.replace(\">\",\"\")\n",
    "\n",
    "#Setting NaN Subject to first part of sender column before '<'\n",
    "data.loc[data[\"Subject\"].isnull(),'Subject'] = data[\"Sender\"].str.split(\" <\").str.get(0)\n",
    "\n",
    "#Processing Dates\n",
    "data[\"Date\"] = data[\"Date\"].str.replace(\"Sun, \",\"\").str.replace(\"Mon, \",\"\").str.replace(\"Tue, \",\"\").str.replace(\"Wed, \",\"\").str.replace(\"Thu, \",\"\").str.replace(\"Fri, \",\"\").str.replace(\"Sat, \",\"\")\n",
    "data[\"Date\"] = pandas.to_datetime(data[\"Date\"],errors='coerce')\n",
    "data = data.drop(data[data[\"Date\"].isnull()].index)\n",
    "\n",
    "#removing stopwords\n",
    "\n",
    "stopWords = set(stopwords.words('english'))\n",
    "\n",
    "def text_without_stopwords(text):\n",
    "    words = word_tokenize(str(text).lower())\n",
    "    wordsFiltered = []\n",
    "    for w in words:\n",
    "        if w not in stopWords:\n",
    "            x = lem.lemmatize(w)\n",
    "            if x == w:\n",
    "                x = lem.lemmatize(w,\"v\")\n",
    "            wordsFiltered.append(x)\n",
    "    return re.sub(r'[^a-zA-Z ]',r' ',\" \".join(wordsFiltered))\n",
    "\n",
    "data[\"Subject\"] = data[\"Subject\"].apply(text_without_stopwords)\n",
    "\n",
    "def clean_email_text(text):\n",
    "    x = str(text).strip().split(\".\")\n",
    "    y = x[0].split(\"@\")\n",
    "    y.append(x[1])\n",
    "    return re.sub(r'[^a-zA-Z ]',r' ',\" \".join(y))\n",
    "\n",
    "data['Sender Email'] = data['Sender Email'].apply(clean_email_text)\n"
   ]
  },
  {
   "cell_type": "code",
   "execution_count": 13,
   "metadata": {},
   "outputs": [],
   "source": [
    "def get_training_test_validation_sets(X,y,training_size=0.6,random_state=None):\n",
    "    X_train, X_test, y_train, y_test = model_selection.train_test_split(X,y, test_size=(1-training_size), random_state=random_state)\n",
    "    X_test, X_val, y_test, y_val = model_selection.train_test_split(X_test, y_test, test_size=0.9, random_state=random_state)\n",
    "    return X_train,X_test,X_val,y_train,y_test,y_val\n",
    "\n",
    "def train_model(classifier,X_train,y_train,X_val,y_val):\n",
    "    classifier.fit(X_train,y_train)\n",
    "    return classifier.score(X_val, y_val),classifier\n",
    "\n",
    "encoder = preprocessing.LabelEncoder()\n",
    "data[\"Type\"] = encoder.fit_transform(data[\"Type\"])\n",
    "\n",
    "tfidf_vect = TfidfVectorizer(sublinear_tf=True, min_df=3, norm='l1', encoding='latin-1', ngram_range=(1, 2), stop_words='english')\n",
    "\n",
    "def get_train_test_validate_data(training_size=0.6,random_state=None):\n",
    "    X_train,X_test,X_val,y_train,y_test,y_val = get_training_test_validation_sets(data[[\"Subject\",\"Sender Email\"]],data[\"Type\"],training_size=training_size,random_state=random_state)\n",
    "    tfidf_vect.fit(X_train[\"Subject\"]) \n",
    "    \n",
    "    train_Subject_tfidf = pandas.DataFrame(tfidf_vect.transform(X_train[\"Subject\"]).todense(),columns=tfidf_vect.get_feature_names())\n",
    "    val_Subject_tfidf = pandas.DataFrame(tfidf_vect.transform(X_val[\"Subject\"]).todense(),columns=tfidf_vect.get_feature_names())\n",
    "    test_Subject_tfidf = pandas.DataFrame(tfidf_vect.transform(X_test[\"Subject\"]).todense(),columns=tfidf_vect.get_feature_names())\n",
    "\n",
    "    train_Sender_Email_tfidf = pandas.DataFrame(tfidf_vect.transform(X_train[\"Sender Email\"]).todense(),columns=tfidf_vect.get_feature_names())\n",
    "    val_Sender_Email_tfidf = pandas.DataFrame(tfidf_vect.transform(X_val[\"Sender Email\"]).todense(),columns=tfidf_vect.get_feature_names())\n",
    "    test_Sender_Email_tfidf = pandas.DataFrame(tfidf_vect.transform(X_test[\"Sender Email\"]).todense(),columns=tfidf_vect.get_feature_names())\n",
    "\n",
    "    train = pandas.concat([train_Subject_tfidf,train_Sender_Email_tfidf],axis=1)\n",
    "    test = pandas.concat([test_Subject_tfidf,test_Sender_Email_tfidf],axis=1)\n",
    "    val = pandas.concat([val_Subject_tfidf,val_Sender_Email_tfidf],axis=1) \n",
    "    return train,test,val,y_train,y_test,y_val"
   ]
  },
  {
   "cell_type": "code",
   "execution_count": 14,
   "metadata": {},
   "outputs": [
    {
     "name": "stdout",
     "output_type": "stream",
     "text": [
      "******  naive_bayes.MultinomialNB  STARTED ******\n",
      "Accuracy(val):  0.7316250842886042\n",
      "Accuracy(test):  0.7317073170731707\n",
      "******  naive_bayes.MultinomialNB  ENDEDED ******\n",
      "\n",
      "\n",
      "******  linear_model.LogisticRegression  STARTED ******\n",
      "Accuracy(val):  0.7525286581254215\n",
      "Accuracy(test):  0.75\n",
      "******  linear_model.LogisticRegression  ENDEDED ******\n",
      "\n",
      "\n",
      "******  svm.LinearSVC  STARTED ******\n",
      "Accuracy(val):  0.7801753202966959\n",
      "Accuracy(test):  0.7621951219512195\n",
      "******  svm.LinearSVC  ENDEDED ******\n",
      "\n",
      "\n",
      "******  ensemble.RandomForestClassifier  STARTED ******\n",
      "Accuracy(val):  0.7875927174645988\n",
      "Accuracy(test):  0.7621951219512195\n",
      "******  ensemble.RandomForestClassifier  ENDEDED ******\n",
      "\n",
      "\n",
      "****** en.VotingClassifier STARTED ******\n",
      "Accuracy(val):  0.7761294672960216\n",
      "Accuracy(test):  0.8048780487804879\n",
      "****** en.VotingClassifier ENDEDED ******\n"
     ]
    },
    {
     "name": "stderr",
     "output_type": "stream",
     "text": [
      "C:\\Users\\Lakshay\\Anaconda3\\lib\\site-packages\\sklearn\\preprocessing\\label.py:151: DeprecationWarning: The truth value of an empty array is ambiguous. Returning False, but in future this will result in an error. Use `array.size > 0` to check that an array is not empty.\n",
      "  if diff:\n",
      "C:\\Users\\Lakshay\\Anaconda3\\lib\\site-packages\\sklearn\\preprocessing\\label.py:151: DeprecationWarning: The truth value of an empty array is ambiguous. Returning False, but in future this will result in an error. Use `array.size > 0` to check that an array is not empty.\n",
      "  if diff:\n"
     ]
    }
   ],
   "source": [
    "import sklearn.ensemble as en\n",
    "\n",
    "models = {\n",
    "    'naive_bayes.MultinomialNB' : naive_bayes.MultinomialNB,\n",
    "    'linear_model.LogisticRegression' : linear_model.LogisticRegression,\n",
    "    'svm.LinearSVC' : svm.LinearSVC,\n",
    "    'ensemble.RandomForestClassifier' : en.RandomForestClassifier\n",
    "}\n",
    "\n",
    "train,test,val,y_train,y_test,y_val = get_train_test_validate_data(training_size=0.66)\n",
    "\n",
    "estimators = []\n",
    "\n",
    "\n",
    "for key in models.keys():\n",
    "    print(\"****** \",key,\" STARTED ******\")\n",
    "    accuracy,model = train_model(models[key](),train, y_train, val,y_val)\n",
    "    print(\"Accuracy(val): \",accuracy)\n",
    "    accuracy = model.score(test, y_test)\n",
    "    print(\"Accuracy(test): \",accuracy)\n",
    "    print(\"****** \",key,\" ENDEDED ******\")\n",
    "    print(\"\\n\")\n",
    "    estimators.append((key, model))\n",
    "    \n",
    "print(\"****** en.VotingClassifier STARTED ******\")\n",
    "ensemble = en.VotingClassifier(estimators)\n",
    "accuracy,model = train_model(ensemble,train, y_train, val,y_val)\n",
    "print(\"Accuracy(val): \",accuracy)\n",
    "accuracy = model.score(test, y_test)\n",
    "print(\"Accuracy(test): \",accuracy)\n",
    "print(\"****** en.VotingClassifier ENDEDED ******\")"
   ]
  },
  {
   "cell_type": "code",
   "execution_count": 37,
   "metadata": {},
   "outputs": [
    {
     "name": "stdout",
     "output_type": "stream",
     "text": [
      "  onkar singh   colaco vinod   others new friend suggestion  -  notification kr mbxeyb  x facebookmail com  -  2 [2]\n"
     ]
    },
    {
     "name": "stderr",
     "output_type": "stream",
     "text": [
      "C:\\Users\\Lakshay\\Anaconda3\\lib\\site-packages\\sklearn\\preprocessing\\label.py:151: DeprecationWarning: The truth value of an empty array is ambiguous. Returning False, but in future this will result in an error. Use `array.size > 0` to check that an array is not empty.\n",
      "  if diff:\n",
      "C:\\Users\\Lakshay\\Anaconda3\\lib\\site-packages\\sklearn\\preprocessing\\label.py:151: DeprecationWarning: The truth value of an empty array is ambiguous. Returning False, but in future this will result in an error. Use `array.size > 0` to check that an array is not empty.\n",
      "  if diff:\n",
      "C:\\Users\\Lakshay\\Anaconda3\\lib\\site-packages\\sklearn\\preprocessing\\label.py:151: DeprecationWarning: The truth value of an empty array is ambiguous. Returning False, but in future this will result in an error. Use `array.size > 0` to check that an array is not empty.\n",
      "  if diff:\n"
     ]
    }
   ],
   "source": [
    "def test_data(subject,sender,model):\n",
    "    Subject_tfidf = pandas.DataFrame(tfidf_vect.transform([subject]).todense(),columns=tfidf_vect.get_feature_names())\n",
    "    Sender_tfidf = pandas.DataFrame(tfidf_vect.transform([sender]).todense(),columns=tfidf_vect.get_feature_names())\n",
    "    x = pandas.concat([Subject_tfidf,Sender_tfidf],axis=1)\n",
    "    return model.predict(x)\n",
    "\n",
    "i = 456\n",
    "print(data[\"Subject\"][i],\" - \",data['Sender Email'][i],\" - \",encoder.inverse_transform(data[\"Type\"][i]),encoder.inverse_transform(test_data(data[\"Subject\"][i],data['Sender Email'][i],ensemble)))"
   ]
  },
  {
   "cell_type": "code",
   "execution_count": null,
   "metadata": {},
   "outputs": [],
   "source": []
  },
  {
   "cell_type": "code",
   "execution_count": null,
   "metadata": {},
   "outputs": [],
   "source": []
  },
  {
   "cell_type": "code",
   "execution_count": null,
   "metadata": {},
   "outputs": [],
   "source": []
  },
  {
   "cell_type": "code",
   "execution_count": null,
   "metadata": {},
   "outputs": [],
   "source": []
  },
  {
   "cell_type": "code",
   "execution_count": null,
   "metadata": {},
   "outputs": [],
   "source": []
  },
  {
   "cell_type": "code",
   "execution_count": null,
   "metadata": {},
   "outputs": [],
   "source": []
  }
 ],
 "metadata": {
  "kernelspec": {
   "display_name": "Python 3",
   "language": "python",
   "name": "python3"
  },
  "language_info": {
   "codemirror_mode": {
    "name": "ipython",
    "version": 3
   },
   "file_extension": ".py",
   "mimetype": "text/x-python",
   "name": "python",
   "nbconvert_exporter": "python",
   "pygments_lexer": "ipython3",
   "version": "3.6.5"
  }
 },
 "nbformat": 4,
 "nbformat_minor": 2
}
